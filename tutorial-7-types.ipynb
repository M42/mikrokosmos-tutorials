{
 "cells": [
  {
   "cell_type": "markdown",
   "metadata": {},
   "source": [
    "# Mikrokosmos 7: types\n",
    "\n",
    "We will load all the standard library with a single command"
   ]
  },
  {
   "cell_type": "code",
   "execution_count": null,
   "metadata": {},
   "outputs": [],
   "source": [
    ":load std"
   ]
  },
  {
   "cell_type": "markdown",
   "metadata": {},
   "source": [
    "Until now, we have been talking about untyped lambda calculus, but we are now going to deal with the simply-typed lambda calculus. The main differences are that\n",
    "\n",
    "  * every term has a type;\n",
    "  * only a subset of the lambda expressions can be written in simply-typed lambda calculus, the typable ones;\n",
    "  * every term normalizes, that is, every computation finishes;\n",
    "  * as a consequence, it is not Turing-complete.\n",
    "  \n",
    "The command `:types on` activates types. Types are displayed with every lambda expression, but certain lambda expressions which cannot be typed cannot be used anymore. The `fix` operator is an example."
   ]
  },
  {
   "cell_type": "code",
   "execution_count": null,
   "metadata": {},
   "outputs": [],
   "source": [
    ":types on"
   ]
  },
  {
   "cell_type": "code",
   "execution_count": null,
   "metadata": {},
   "outputs": [],
   "source": [
    "id\n",
    "K\n",
    "fix"
   ]
  },
  {
   "cell_type": "markdown",
   "metadata": {},
   "source": [
    "A type is written as a set of type variables and arrows, where `A -> B` represents the type of a function between `A` and `B`. Currying works also with types, and a multiargument function must be written as `A -> B -> C`. The interpreter will always try to infer the **most general type**, that is, it is preferible to have `A -> B` than the particular case `A -> C -> D` where `B` happens to be `C -> D`. "
   ]
  },
  {
   "cell_type": "code",
   "execution_count": null,
   "metadata": {},
   "outputs": [],
   "source": [
    "plus\n",
    "plus 3\n",
    "plus 3 2"
   ]
  },
  {
   "cell_type": "markdown",
   "metadata": {},
   "source": [
    "## Propositions as types\n",
    "\n",
    "What types are inhabited? It is easy to find an expression of the type `A -> A`, but it seems that there is no expression of type `A -> B`. We can reason that any expression of that type should be able to transform any given input type onto any desired output type, and that such an expression would not be possible.\n",
    "\n",
    "The rules of lambda calculus are similar to the rules of the intuitionistic propositional logic; this means that a type will be inhabited if and only if the type, reading arrows as logical implications, is a tautology of propositional logic.\n",
    "\n",
    "The axioms of intuistic propositional logic are\n",
    "\n",
    "  * every expression implies itself, `A -> A`.\n",
    "  * we can discard any assumption to arrive at a conclusion `A -> B -> A`.\n",
    "  * an assumption can be used multiple times to arrive at intermediate conclusions, `(A -> B -> C) -> (A -> B) -> A -> C`.\n",
    "  \n",
    "Those are precisely the types of the SKI combinators. As any lambda expression can be written in terms of these combinators, every lambda expression of a type is actually a **proof** of the proposition the type represents."
   ]
  },
  {
   "cell_type": "code",
   "execution_count": null,
   "metadata": {},
   "outputs": [],
   "source": [
    "I\n",
    "K\n",
    "S"
   ]
  },
  {
   "cell_type": "markdown",
   "metadata": {},
   "source": [
    "We can define some logical connectives using only the implication. For example, the negation of a proposition $A$ would be a function taking $A$ and returning any given type. As we discussed earlier, this should be impossible, so the existence of a function `T -> B` where `B` is a free variable should be a proof of the type `T` not being inhabited.\n",
    "\n",
    "For example, we can write a proof of the *modus ponens* by presenting an inhabitant of the type $A \\to (A \\to B) \\to B$, where A and B are free type variables."
   ]
  },
  {
   "cell_type": "code",
   "execution_count": null,
   "metadata": {},
   "outputs": [],
   "source": [
    "\\a.\\b.b a"
   ]
  },
  {
   "cell_type": "markdown",
   "metadata": {},
   "source": [
    "### Products, unions and logic\n",
    "\n",
    "Mikrokosmos supports product, union, unit and void types. They can be used by loading the library **types** as"
   ]
  },
  {
   "cell_type": "code",
   "execution_count": null,
   "metadata": {},
   "outputs": [],
   "source": [
    ":load types"
   ]
  },
  {
   "cell_type": "markdown",
   "metadata": {},
   "source": [
    "and using the following typed constructors and recursors\n",
    "\n",
    "| Constructor | Type  |\n",
    "|:-------------:|:--------:|\n",
    "| `(-,-)`     | `A → B → A × B` |\n",
    "| `fst` | `(A × B) → A` |\n",
    "| `snd` | `(A × B) → B` |\n",
    "| `inl` | `A → A + B` |\n",
    "| `inr` | `B → A + B`|\n",
    "| `unit` | `⊤` |\n",
    "| `abort` | `⊥ → A` |\n",
    "| `absurd` | `⊥ → ⊥` |\n",
    "| `caseof` | `(A + B) → (A → C) → (B → C) → C` |\n",
    "\n",
    "The following are examples of the use of typed constructors."
   ]
  },
  {
   "cell_type": "code",
   "execution_count": null,
   "metadata": {},
   "outputs": [],
   "source": [
    "fst (2,3)\n",
    "snd (2,3)\n",
    "inl true\n",
    "inr false\n",
    "caseof (inl 3) (mult 2) (plus 1)\n",
    "caseof (inr 3) (mult 2) (plus 1)\n",
    "unit"
   ]
  },
  {
   "cell_type": "markdown",
   "metadata": {},
   "source": [
    "These types complete the correspondence between intuitionistic logic and lambda calculus. A type is inhabited if and only if its proposition is provable.\n",
    "\n",
    "| Description | Type | Proposition | Description |\n",
    "|:-------------|:-----:|:-----------:|---------:|\n",
    "| Product type | `A × B` | `A ∧ B` | Logical conjunction |\n",
    "| Disjoint union type | `A + B` | `A ∨ B` | Logical disjunction |\n",
    "| Unit type | `⊤` | `⊤` | True proposition |\n",
    "| Empty type | `⊥` | `⊥` | False proposition |"
   ]
  },
  {
   "cell_type": "markdown",
   "metadata": {},
   "source": [
    "The characteristic difference of classical versus intuitionistic logic is that $A \\vee \\neg A$ and $\\neg \\neg A \\to A$ (the law of excluded middle, LEM) are not provable on intuitionistic logic. It is not possible to find an expression of type `(A -> C) -> ((A -> F) -> C) -> C`, which would correspond to $A \\vee \\neg A$.\n",
    "\n",
    "It is possible, however, to prove $\\neg \\neg (A \\vee \\neg A)$."
   ]
  },
  {
   "cell_type": "code",
   "execution_count": null,
   "metadata": {},
   "outputs": [],
   "source": [
    "notnotlem = \\f.f (\\n.\\m.m (\\a. f (\\n.\\m.n a)))\n",
    "notnotlem"
   ]
  },
  {
   "cell_type": "code",
   "execution_count": null,
   "metadata": {
    "collapsed": true
   },
   "outputs": [],
   "source": [
    "# Try to prove trivial propositional logic formulae!"
   ]
  }
 ],
 "metadata": {
  "kernelspec": {
   "display_name": "IMikrokosmos",
   "language": "",
   "name": "imikrokosmos"
  },
  "language_info": {
   "codemirror_mode": "mikrokosmos",
   "file_extension": ".mkr",
   "mimetype": "text/plain",
   "name": "Mikrokosmos"
  }
 },
 "nbformat": 4,
 "nbformat_minor": 2
}
