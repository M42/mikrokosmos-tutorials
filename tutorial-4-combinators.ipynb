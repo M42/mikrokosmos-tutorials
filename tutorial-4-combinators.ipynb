{
 "cells": [
  {
   "cell_type": "markdown",
   "metadata": {},
   "source": [
    "# Mikrokosmos 4: combinatory logic\n",
    "\n",
    "In the previous chapter, we defined most of the contents of the `nat` library. We can load it now as"
   ]
  },
  {
   "cell_type": "code",
   "execution_count": 1,
   "metadata": {},
   "outputs": [
    {
     "name": "stdout",
     "output_type": "stream",
     "text": [
      "\u001b[?1l\u001b[1;34mLoading /home/mario/.mikrokosmos/logic.mkr...\u001b[m\r\n",
      "\u001b[1;34mLoading /home/mario/.mikrokosmos/nat.mkr...\u001b[m\r\n",
      "\u001b[22;34m\u001b[m\u001b[?1h\u001b[1;94m"
     ]
    }
   ],
   "source": [
    ":load nat"
   ]
  },
  {
   "cell_type": "markdown",
   "metadata": {},
   "source": [
    "## Combinatory logic\n",
    "\n",
    "[Combinatory logic](https://en.wikipedia.org/wiki/Combinatory_logic) provides a notation for lambda terms independent from quantified variables. Every lambda expression can be written in terms of three combinators, $S,K,I$, which are defined as\n",
    "\n",
    " - $I = \\lambda x.x$, the identity function.\n",
    " - $K = \\lambda x.\\lambda y.x$, the constant function.\n",
    " - $S = \\lambda x.\\lambda y.\\lambda z. x z (y z)$, a generalized application.\n",
    " \n",
    "The first one, the identity, can be also written as a function of $S$ and $K$."
   ]
  },
  {
   "cell_type": "code",
   "execution_count": 2,
   "metadata": {},
   "outputs": [
    {
     "name": "stdout",
     "output_type": "stream",
     "text": [
      "\u001b[?1l\u001b[22;34m\u001b[m\u001b[?1h\u001b[1;94m\u001b[?1l\u001b[22;34m\u001b[m\u001b[?1h\u001b[1;94m\u001b[?1l\u001b[22;34m\u001b[m\u001b[?1h\u001b[1;94m"
     ]
    }
   ],
   "source": [
    "I = \\x.x\n",
    "K = \\x.\\y.x\n",
    "S = \\x.\\y.\\z.(x z (y z))"
   ]
  },
  {
   "cell_type": "code",
   "execution_count": 3,
   "metadata": {},
   "outputs": [
    {
     "name": "stdout",
     "output_type": "stream",
     "text": [
      "\u001b[?1l\u001b[22;34mλa.a\u001b[32m ⇒ I, ifelse\u001b[m\u001b[m\r\n",
      "\u001b[m\u001b[?1h\u001b[1;94m"
     ]
    }
   ],
   "source": [
    "S K K"
   ]
  },
  {
   "cell_type": "markdown",
   "metadata": {},
   "source": [
    "The interesting property of this particular set of combinators is that every other lambda expression can be written in terms of them. We can see how a particular lambda expression is written in SKI calculus by turning on the **ski** mode of the interpreter"
   ]
  },
  {
   "cell_type": "code",
   "execution_count": 4,
   "metadata": {},
   "outputs": [
    {
     "name": "stdout",
     "output_type": "stream",
     "text": [
      "\u001b[?1l\u001b[22;34mski mode: on\r\n",
      "\u001b[?1h\u001b[1;94m"
     ]
    }
   ],
   "source": [
    ":ski on"
   ]
  },
  {
   "cell_type": "code",
   "execution_count": 5,
   "metadata": {},
   "outputs": [
    {
     "name": "stdout",
     "output_type": "stream",
     "text": [
      "\u001b[?1l\u001b[22;34mλa.λb.λc.((a c) (b c))\u001b[2;36m ⇒ S\u001b[m\u001b[32m ⇒ S\u001b[m\u001b[m\r\n",
      "\u001b[m\u001b[?1h\u001b[1;94m\u001b[?1l\u001b[22;34mλa.λb.b\u001b[2;36m ⇒ KI\u001b[m\u001b[32m ⇒ 0, false\u001b[m\u001b[m\r\n",
      "\u001b[m\u001b[?1h\u001b[1;94m\u001b[?1l\u001b[22;34mλa.λb.a\u001b[2;36m ⇒ K\u001b[m\u001b[32m ⇒ K, true\u001b[m\u001b[m\r\n",
      "\u001b[m\u001b[?1h\u001b[1;94m\u001b[?1l\u001b[22;34mλa.λb.((a a) b)\u001b[2;36m ⇒ SII\u001b[m\u001b[32m ⇒ or\u001b[m\u001b[m\r\n",
      "\u001b[m\u001b[?1h\u001b[1;94m\u001b[?1l\u001b[22;34mλa.λb.((a b) a)\u001b[2;36m ⇒ SSK\u001b[m\u001b[32m ⇒ and\u001b[m\u001b[m\r\n",
      "\u001b[m\u001b[?1h\u001b[1;94m"
     ]
    }
   ],
   "source": [
    "S\n",
    "false\n",
    "true\n",
    "or\n",
    "and"
   ]
  },
  {
   "cell_type": "markdown",
   "metadata": {},
   "source": [
    "**Exercise 4.1:** How are Church-encoded numerals represented with SKI combinators? Compute the first four or five numbers and try to come up with the general rule."
   ]
  },
  {
   "cell_type": "code",
   "execution_count": 6,
   "metadata": {},
   "outputs": [
    {
     "name": "stdout",
     "output_type": "stream",
     "text": [
      "\u001b[?1l\u001b[22;34m\u001b[m\u001b[?1h\u001b[1;94m"
     ]
    }
   ],
   "source": [
    "# -- Your solution goes here"
   ]
  },
  {
   "cell_type": "markdown",
   "metadata": {},
   "source": [
    "Schönfinkel and Church defined different but equivalent sets of combinators. Some of the other classical combinators are\n",
    "\n",
    "  * function application, `C`;\n",
    "  * function composition, `B`;\n",
    "  * and duplication of an argument, `W`;\n",
    "  \n",
    "and they are defined as"
   ]
  },
  {
   "cell_type": "code",
   "execution_count": 7,
   "metadata": {},
   "outputs": [
    {
     "name": "stdout",
     "output_type": "stream",
     "text": [
      "\u001b[?1l\u001b[22;34m\u001b[m\u001b[?1h\u001b[1;94m\u001b[?1l\u001b[22;34m\u001b[m\u001b[?1h\u001b[1;94m\u001b[?1l\u001b[22;34m\u001b[m\u001b[?1h\u001b[1;94m"
     ]
    }
   ],
   "source": [
    "C = \\f.\\x.\\y.f y x\n",
    "B = \\f.\\g.\\x.f (g x)\n",
    "W = \\x.\\y.(y y)"
   ]
  },
  {
   "cell_type": "markdown",
   "metadata": {},
   "source": [
    "The [Y combinator](https://en.wikipedia.org/wiki/Fixed-point_combinator#Fixed_point_combinators_in_lambda_calculus) is related to recursion and we will discuss it on future chapters."
   ]
  },
  {
   "cell_type": "code",
   "execution_count": null,
   "metadata": {
    "collapsed": true
   },
   "outputs": [],
   "source": [
    "# -- You can test the combinators here"
   ]
  }
 ],
 "metadata": {
  "kernelspec": {
   "display_name": "IMikrokosmos",
   "language": "",
   "name": "imikrokosmos"
  },
  "language_info": {
   "codemirror_mode": "mikrokosmos",
   "file_extension": ".mkr",
   "mimetype": "text/plain",
   "name": "Mikrokosmos"
  }
 },
 "nbformat": 4,
 "nbformat_minor": 2
}
