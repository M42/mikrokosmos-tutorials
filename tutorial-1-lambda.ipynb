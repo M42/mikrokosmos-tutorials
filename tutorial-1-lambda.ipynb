{
 "cells": [
  {
   "cell_type": "markdown",
   "metadata": {},
   "source": [
    "# Mikrokosmos 1: a lambda calculus tutorial"
   ]
  },
  {
   "cell_type": "markdown",
   "metadata": {
    "collapsed": true
   },
   "source": [
    "## The λ-calculus\n",
    "\n",
    "The [**λ-calculus**](https://en.wikipedia.org/wiki/Lambda_calculus) (or *lambda calculus*) is a logical formal system which is also a model of computation (like Turing machines). It was introduced in the 1930s by Alonzo Church, who was looking for a formal system able to  express the notion of computability. It is Turing-complete, that is, it has the property that every computable function can be written on λ-calculus.\n",
    "\n",
    "It syntax is very simple; any expression is either:\n",
    "\n",
    "  - a **variable**, which could have appeared firstly on the lambda \n",
    "    abstraction;\n",
    "    \n",
    "  - a **lambda abstraction** $\\lambda x. -$, which can be interpreted \n",
    "    as a function taking $x$ as an argument and outputting what is\n",
    "    written under $-$, which can depend on $x$;\n",
    "    \n",
    "  - or an **application** of two expressions $(\\lambda x. M)N$ which \n",
    "    applies the function $(\\lambda x. M)$ over the argument $N$.\n",
    "    When a function is applied, all the ocurrences of $x$ on $M$ will \n",
    "    be substituted by $N$. This is what is called **$\\beta$-reduction**;\n",
    "    and captures the notion of function application.\n",
    "\n",
    "I.e. any function $f$ can be written as $(\\lambda x.f(x))$, and it can be applied to an argument as\n",
    "\n",
    "$$ (\\lambda x.f(x))\\ y \\longrightarrow f(y). $$\n",
    "\n",
    "For example, the function that duplicates an element could be written as $(\\lambda x.\\ 2 \\cdot x)$, and it would be applied to $3$ as\n",
    "\n",
    "$$ (\\lambda x.\\ 2 \\cdot x)\\ 3 \\longrightarrow 2 \\cdot 3 \\longrightarrow 6.$$\n",
    "\n",
    "In this chapter, however, we will restrict ourselves to very basic functions which do not involve arithmetic. How to define natural numbers, addition or multiplication will be topics for future chapters.\n",
    "\n",
    "## A first example\n",
    "\n",
    "In Mikrokosmos, it is possible to use the backslash character as a λ to make the input easier. If you happen to have a greek keyboard configured, however, feel free to write \"λ\"! Mikrokosmos accepts both sintaxes. For example, the nested expression $\\lambda x.(\\lambda y.x)$ can be written as `\\x.(\\y.x)`.\n",
    "\n",
    "Our first example defines a very simple lambda term, the **identity function** $\\lambda x. x$; which is a function that takes an argument $x$ and returns it unchanged. Our first statement just after this definition will be apply this function to itself. Keep in mind during this tutorial that it is perfectly possible to apply functions to other functions or to themselves; in fact, this is one of the core ideas of lambda calculus."
   ]
  },
  {
   "cell_type": "code",
   "execution_count": 11,
   "metadata": {},
   "outputs": [
    {
     "name": "stdout",
     "output_type": "stream",
     "text": [
      "\u001b[?1l\u001b[22;34m\u001b[m\u001b[?1h\u001b[1;94m"
     ]
    }
   ],
   "source": [
    "id = \\x.x"
   ]
  },
  {
   "cell_type": "code",
   "execution_count": 12,
   "metadata": {},
   "outputs": [
    {
     "name": "stdout",
     "output_type": "stream",
     "text": [
      "\u001b[?1l\u001b[22;34mλa.a\u001b[32m ⇒ I, ifelse, id\u001b[m\u001b[m\r\n",
      "\u001b[m\u001b[?1h\u001b[1;94m"
     ]
    }
   ],
   "source": [
    "id id"
   ]
  },
  {
   "cell_type": "markdown",
   "metadata": {},
   "source": [
    "In the previous example, the function application has followed this chain of $\\beta$-reductions\n",
    "\n",
    "$$ id\\ id \\longrightarrow (\\lambda x.x)(\\lambda x'.x') \\longrightarrow (\\lambda x'.x') \\longrightarrow  id.$$\n",
    "\n",
    "Note that the specific name of a variable is irrelevant. They act only as placeholders. A perfectly valid definition of `id` would be `id = \\a.a` or `id = \\b.b`."
   ]
  },
  {
   "cell_type": "markdown",
   "metadata": {},
   "source": [
    "## More examples\n",
    "\n",
    "Function application is **left distributive** and parentheses can be ommited when they are not necessary, that is, `f g h` must be read as `(f(g))(h)` instead of `f(g(h))`. This goes against the usual mathematical convention, which always writes parentheses on functions, that is, we write\n",
    "\n",
    "$$f\\ x\\quad\\text{ instead of }\\quad f(x);$$\n",
    "\n",
    "and\n",
    "\n",
    "$$f\\ x\\ y\\quad\\text{ instead of }\\quad (f(x))(y)\\ \\text{ or }\\  f(x,y);$$\n",
    "\n",
    "but this makes it less verbose to write multiple argument functions such as the **constant** function, which takes two arguments and returns the first one. "
   ]
  },
  {
   "cell_type": "code",
   "execution_count": 13,
   "metadata": {},
   "outputs": [
    {
     "name": "stdout",
     "output_type": "stream",
     "text": [
      "\u001b[?1l\u001b[22;34m\u001b[m\u001b[?1h\u001b[1;94m\u001b[?1l\u001b[?1h\u001b[1;94m"
     ]
    }
   ],
   "source": [
    "const = \\x.\\y.x\n"
   ]
  },
  {
   "cell_type": "code",
   "execution_count": 4,
   "metadata": {},
   "outputs": [
    {
     "name": "stdout",
     "output_type": "stream",
     "text": [
      "\u001b[?1l\u001b[22;34mλa.a\u001b[32m ⇒ id\u001b[m\u001b[m\r\n",
      "\u001b[m\u001b[?1h\u001b[1;94m\u001b[?1l\u001b[22;34mλa.a\u001b[32m ⇒ id\u001b[m\u001b[m\r\n",
      "\u001b[m\u001b[?1h\u001b[1;94m"
     ]
    }
   ],
   "source": [
    "const id id\n",
    "const id const"
   ]
  },
  {
   "cell_type": "markdown",
   "metadata": {},
   "source": [
    "Note that, in λ-calculus, a function taking two arguments and a function that takes an argument and returns a function taking the second are conceptually the same. This equivalence is called *[currying](https://en.wikipedia.org/wiki/Currying)* in honor of [Haskell Curry](https://en.wikipedia.org/wiki/Haskell_Curry), the logician who developed this idea, previously discovered by Schönfinkel and Frege.\n",
    "\n",
    "This is why we can see every function with two arguments as a function taking only one argument and returning again a function taking the second one. For example, the `(const id)` function is a function that takes only one argument, discards it, and outputs `id`."
   ]
  },
  {
   "cell_type": "code",
   "execution_count": 14,
   "metadata": {},
   "outputs": [
    {
     "name": "stdout",
     "output_type": "stream",
     "text": [
      "\u001b[?1l\u001b[22;34m\u001b[m\u001b[?1h\u001b[1;94m\u001b[?1l\u001b[22;34m\u001b[m\u001b[?1h\u001b[1;94m"
     ]
    }
   ],
   "source": [
    "# Comments can be inserted starting a line with the # character\n",
    "alwaysid = const id"
   ]
  },
  {
   "cell_type": "code",
   "execution_count": 15,
   "metadata": {},
   "outputs": [
    {
     "name": "stdout",
     "output_type": "stream",
     "text": [
      "\u001b[?1l\u001b[22;34mλa.a\u001b[32m ⇒ I, ifelse, id\u001b[m\u001b[m\r\n",
      "\u001b[m\u001b[?1h\u001b[1;94m\u001b[?1l\u001b[22;34mλa.a\u001b[32m ⇒ I, ifelse, id\u001b[m\u001b[m\r\n",
      "\u001b[m\u001b[?1h\u001b[1;94m\u001b[?1l\u001b[22;34mλa.a\u001b[32m ⇒ I, ifelse, id\u001b[m\u001b[m\r\n",
      "\u001b[m\u001b[?1h\u001b[1;94m"
     ]
    }
   ],
   "source": [
    "alwaysid id\n",
    "alwaysid const\n",
    "alwaysid alwaysid"
   ]
  },
  {
   "cell_type": "markdown",
   "metadata": {},
   "source": [
    "A more useful example of function taking functions as arguments is the function **composition**, which takes two functions and returns a new one created by applying the two sequentially. This corresponds to the usual mathematical function composition $f \\circ g$."
   ]
  },
  {
   "cell_type": "code",
   "execution_count": 16,
   "metadata": {},
   "outputs": [
    {
     "name": "stdout",
     "output_type": "stream",
     "text": [
      "\u001b[?1l\u001b[22;34m\u001b[m\u001b[?1h\u001b[1;94m"
     ]
    }
   ],
   "source": [
    "compose = \\f.\\g.\\x.f (g x)"
   ]
  },
  {
   "cell_type": "code",
   "execution_count": 17,
   "metadata": {},
   "outputs": [
    {
     "name": "stdout",
     "output_type": "stream",
     "text": [
      "\u001b[?1l\u001b[22;34m\u001b[m\u001b[?1h\u001b[1;94m\u001b[?1l\u001b[22;34mλa.a\u001b[32m ⇒ I, ifelse, id\u001b[m\u001b[m\r\n",
      "\u001b[m\u001b[?1h\u001b[1;94m"
     ]
    }
   ],
   "source": [
    "# The identity composed with the identity is again the identity.\n",
    "compose id id"
   ]
  },
  {
   "cell_type": "markdown",
   "metadata": {},
   "source": [
    "## Exercises and a playground"
   ]
  },
  {
   "cell_type": "markdown",
   "metadata": {},
   "source": [
    "**Exercise 1.1:** Think what should be the result of the following expressions and then check it with the interpreter.\n",
    "\n",
    "  - `compose const id`\n",
    "  - `compose id const`\n",
    "  - `compose const const`"
   ]
  },
  {
   "cell_type": "code",
   "execution_count": 9,
   "metadata": {},
   "outputs": [
    {
     "name": "stdout",
     "output_type": "stream",
     "text": [
      "\u001b[?1l\u001b[22;34m\u001b[m\u001b[?1h\u001b[1;94m"
     ]
    }
   ],
   "source": [
    "# -- Your solution goes here"
   ]
  },
  {
   "cell_type": "markdown",
   "metadata": {},
   "source": [
    "The set of functions we have defined until now is very limited, but Mikrokosmos comes bundled with a standard library of already defined lambda terms that we can use. You can load it with"
   ]
  },
  {
   "cell_type": "code",
   "execution_count": 10,
   "metadata": {},
   "outputs": [
    {
     "name": "stdout",
     "output_type": "stream",
     "text": [
      "\u001b[?1l\u001b[1;34mLoading /home/mario/.mikrokosmos/logic.mkr...\u001b[m\r\n",
      "\u001b[1;34mLoading /home/mario/.mikrokosmos/nat.mkr...\u001b[m\r\n",
      "\u001b[1;34mLoading /home/mario/.mikrokosmos/basic.mkr...\u001b[m\r\n",
      "\u001b[1;34mLoading /home/mario/.mikrokosmos/ski.mkr...\u001b[m\r\n",
      "\u001b[1;34mLoading /home/mario/.mikrokosmos/datastructures.mkr...\u001b[m\r\n",
      "\u001b[1;34mLoading /home/mario/.mikrokosmos/fixpoint.mkr...\u001b[m\r\n",
      "\u001b[1;34mLoading /home/mario/.mikrokosmos/types.mkr...\u001b[m\r\n",
      "\u001b[1;34mLoading /home/mario/.mikrokosmos/std.mkr...\u001b[m\r\n",
      "\u001b[22;34m\u001b[m\u001b[?1h\u001b[1;94m"
     ]
    }
   ],
   "source": [
    ":load std"
   ]
  },
  {
   "cell_type": "markdown",
   "metadata": {},
   "source": [
    "and once loaded, you can use the natural numbers up to `100` and functions such as\n",
    "\n",
    "  * `plus`, addition of natural numbers;\n",
    "  * `mult`, multiplication of natural numbers;\n",
    "  * `minus`, substaction of natural numbers.\n",
    "  \n",
    "Try the following examples and practice writing some more functions. We will explain in detail how those functions have been defined in the following chapters."
   ]
  },
  {
   "cell_type": "code",
   "execution_count": null,
   "metadata": {
    "collapsed": true
   },
   "outputs": [],
   "source": [
    "mult 2 3\n",
    "plus 4 0\n",
    "plus 3 (mult 2 3)\n",
    "id 2\n",
    "(compose (plus 2) (plus 4)) 1"
   ]
  },
  {
   "cell_type": "code",
   "execution_count": null,
   "metadata": {
    "collapsed": true
   },
   "outputs": [],
   "source": [
    "# Playground! You can evaluate your terms here\n"
   ]
  }
 ],
 "metadata": {
  "kernelspec": {
   "display_name": "IMikrokosmos",
   "language": "",
   "name": "imikrokosmos"
  },
  "language_info": {
   "codemirror_mode": "mikrokosmos",
   "file_extension": ".mkr",
   "mimetype": "text/plain",
   "name": "Mikrokosmos"
  }
 },
 "nbformat": 4,
 "nbformat_minor": 2
}
