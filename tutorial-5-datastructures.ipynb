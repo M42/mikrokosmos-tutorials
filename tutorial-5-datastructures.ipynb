{
 "cells": [
  {
   "cell_type": "markdown",
   "metadata": {},
   "source": [
    "# Mikrokosmos 5: data structures\n",
    "\n",
    "All the material from the previous chapters can be loaded with"
   ]
  },
  {
   "cell_type": "code",
   "execution_count": null,
   "metadata": {},
   "outputs": [],
   "source": [
    ":load nat\n",
    ":load ski"
   ]
  },
  {
   "cell_type": "markdown",
   "metadata": {},
   "source": [
    "## Pairs\n",
    "\n",
    "Pairs are easily defined from the boolean logic. The main idea will be that, to apply a pair to a function will be the same thing that to apply the function to its two components.\n",
    "\n",
    "$$ \\mathtt{pair}(a,b)(f) \\equiv f\\ a\\ b $$\n",
    "\n",
    "With this idea, pairs and their two projections are defined as follows."
   ]
  },
  {
   "cell_type": "code",
   "execution_count": null,
   "metadata": {},
   "outputs": [],
   "source": [
    "pair = \\x.\\y.\\z.z x y\n",
    "fst = \\p.p true\n",
    "snd = \\p.p false"
   ]
  },
  {
   "cell_type": "markdown",
   "metadata": {},
   "source": [
    "We use `true` and `false` to select the first or the second argument to the function; it is possible to use the same idea to apply other functions."
   ]
  },
  {
   "cell_type": "code",
   "execution_count": null,
   "metadata": {},
   "outputs": [],
   "source": [
    "(pair 3 4) plus\n",
    "(pair true false) or"
   ]
  },
  {
   "cell_type": "markdown",
   "metadata": {},
   "source": [
    "## Lists I: nil and cons\n",
    "\n",
    "Data structures such as lists or binary trees can be represented using the same principle we used to build naturals and booleans. We would need two constructors to represent a list a `nil` signaling the end of the list and a `cons`, joining an element to the head of the list. A list would be something like this\n",
    "\n",
    "$$ \\mathtt{cons}\\ 1\\ (\\mathtt{cons}\\ 2\\ (\\mathtt{cons}\\ 3\\ \\mathtt{nil})).$$\n",
    "\n",
    "As we did with natural numbers, we are going to write a representation independent from the constructors, they are going to be passed as arguments. We need\n",
    "\n",
    "  - `nil`, a list.\n",
    "  - `cons`, a function taking an element (head) and a list (tail) and returning a new list."
   ]
  },
  {
   "cell_type": "code",
   "execution_count": null,
   "metadata": {},
   "outputs": [],
   "source": [
    "# The interpretation of nil is the nil constructor\n",
    "# The interpretation of (cons h t) is cons of h and the interpretation of t \n",
    "nil  = \\c.\\n.n\n",
    "cons = \\h.\\t.\\c.\\n.(c h (t c n))"
   ]
  },
  {
   "cell_type": "code",
   "execution_count": null,
   "metadata": {},
   "outputs": [],
   "source": [
    "cons 1 (cons 2 (cons 3 nil))"
   ]
  },
  {
   "cell_type": "markdown",
   "metadata": {},
   "source": [
    "This interpretation makes easier to write folding functions for lists. We can define a function on a list simply giving the interpretation for the nil and a binary function as an interpretation for the const. For example, we can add all the elements of a list like this"
   ]
  },
  {
   "cell_type": "code",
   "execution_count": null,
   "metadata": {},
   "outputs": [],
   "source": [
    "(cons 1 (cons 2 (cons 3 nil))) plus 0"
   ]
  },
  {
   "cell_type": "markdown",
   "metadata": {},
   "source": [
    "It is useful to encode this principle into a function called `fold`. We are going to define a summation $\\Sigma$ function and a list product $\\Pi$ function on lists."
   ]
  },
  {
   "cell_type": "code",
   "execution_count": null,
   "metadata": {},
   "outputs": [],
   "source": [
    "fold = \\c.\\n.\\l.(l c n)"
   ]
  },
  {
   "cell_type": "code",
   "execution_count": null,
   "metadata": {},
   "outputs": [],
   "source": [
    "sum  = fold plus 0\n",
    "prod = fold mult 1"
   ]
  },
  {
   "cell_type": "code",
   "execution_count": null,
   "metadata": {},
   "outputs": [],
   "source": [
    "sum  (cons 1 (cons 3 (cons 4 nil)))\n",
    "prod (cons 1 (cons 3 (cons 4 nil)))"
   ]
  },
  {
   "cell_type": "markdown",
   "metadata": {},
   "source": [
    "**Exercise 5.1:** Write the `any` and `all` functions. They are functions that can be applied over lists of booleans.\n",
    "\n",
    "  - `all` returns true if the list is made up only of `true`s.\n",
    "  - `any` returns true if there is at least one `true` on the list.\n",
    "\n",
    "You may want to use the `fold` function."
   ]
  },
  {
   "cell_type": "code",
   "execution_count": null,
   "metadata": {},
   "outputs": [],
   "source": [
    "# -- Your solution goes here\n",
    "# all = \n",
    "# any ="
   ]
  },
  {
   "cell_type": "markdown",
   "metadata": {},
   "source": [
    "**Exercise 5.2**: Write a length function using fold. The function should return the number of elements of the lists, returning 0 if the list is empty."
   ]
  },
  {
   "cell_type": "code",
   "execution_count": null,
   "metadata": {},
   "outputs": [],
   "source": [
    "# -- Your solution goes here\n",
    "# length ="
   ]
  },
  {
   "cell_type": "markdown",
   "metadata": {},
   "source": [
    "## Lists II: map and filter\n",
    "\n",
    "Map, filter and fold are the most famous examples of higher order functions on lists and a common example of the power of functional programming, which has its roots on lambda calculus.\n",
    "\n",
    "  - The **map** function applies a function `f` to every element on a list.\n",
    "  - The **filter** function removes the elements of the list that do not satisfy a given predicate. It \"filters\"      \n",
    "    the list, leaving only elements that satisfy the predicate.\n",
    "\n",
    "We are going to implement these functions using our previously defined `fold`."
   ]
  },
  {
   "cell_type": "code",
   "execution_count": null,
   "metadata": {},
   "outputs": [],
   "source": [
    "# Given a cons h t, we return a cons (f h) t; given a nil, we return a nil\n",
    "map = \\f.(fold (\\h.\\t.cons (f h) t) nil)"
   ]
  },
  {
   "cell_type": "code",
   "execution_count": null,
   "metadata": {},
   "outputs": [],
   "source": [
    "sum               (cons 1 (cons 2 (cons 3 nil)))\n",
    "sum (map succ     (cons 1 (cons 2 (cons 3 nil))))\n",
    "sum (map (mult 0) (cons 1 (cons 2 (cons 3 nil))))"
   ]
  },
  {
   "cell_type": "markdown",
   "metadata": {},
   "source": [
    "**Exercise 5.3:** Write functions\n",
    "\n",
    "  - doubling the value of each number on a list.\n",
    "  - negating each value of a list of booleans."
   ]
  },
  {
   "cell_type": "code",
   "execution_count": null,
   "metadata": {},
   "outputs": [],
   "source": [
    "# -- Your solution goes here\n",
    "# doublelist = \n",
    "# negate ="
   ]
  },
  {
   "cell_type": "markdown",
   "metadata": {},
   "source": [
    "Filter can be defined using a boolean to decide at each step whether to return a list with a head or return the tail ignoring the head, like this"
   ]
  },
  {
   "cell_type": "code",
   "execution_count": null,
   "metadata": {},
   "outputs": [],
   "source": [
    "filter = \\p.(foldr (\\h.\\t.((p h) (cons h t) t)) nil)"
   ]
  },
  {
   "cell_type": "markdown",
   "metadata": {},
   "source": [
    "**Exercise 5.4:** Write a function that, given any list, returns a list containing only the even numbers on the list."
   ]
  },
  {
   "cell_type": "code",
   "execution_count": null,
   "metadata": {},
   "outputs": [],
   "source": [
    "# -- Your solution goes here\n",
    "# filterodd = "
   ]
  },
  {
   "cell_type": "markdown",
   "metadata": {},
   "source": [
    "## Binary trees\n",
    "\n",
    "Lists have been defined using two constructors and trees will be defined using the same technique. The only difference with lists is that the `cons` constructor is going to be replaced by a `node` constructor, which takes two trees as arguments. That is, a binary tree is\n",
    "\n",
    "  - an empty tree.\n",
    "  - a node, containing a label, a left subtree, and a right subtree."
   ]
  },
  {
   "cell_type": "code",
   "execution_count": null,
   "metadata": {},
   "outputs": [],
   "source": [
    "node = \\x.\\l.\\r.\\f.\\n.(f x (l f n) (r f n))"
   ]
  },
  {
   "cell_type": "markdown",
   "metadata": {},
   "source": [
    "An example of binary tree of natural numbers is the following one"
   ]
  },
  {
   "cell_type": "code",
   "execution_count": null,
   "metadata": {},
   "outputs": [],
   "source": [
    "node 4 (node 2 nil nil) (node 3 nil nil)"
   ]
  },
  {
   "cell_type": "markdown",
   "metadata": {},
   "source": [
    "Defining functions using a fold-like combinator is again very simple due to the chosen representation. We are going to need also a variant of the usual function acting on three arguments, the label, the right node and the left node."
   ]
  },
  {
   "cell_type": "code",
   "execution_count": null,
   "metadata": {},
   "outputs": [],
   "source": [
    "triplesum = \\a.\\b.\\c.plus (plus a b) c"
   ]
  },
  {
   "cell_type": "code",
   "execution_count": null,
   "metadata": {},
   "outputs": [],
   "source": [
    "(node 4 (node 2 nil nil) (node 3 nil nil)) triplesum 0"
   ]
  },
  {
   "cell_type": "code",
   "execution_count": null,
   "metadata": {},
   "outputs": [],
   "source": [
    "# You can test the data structures here!"
   ]
  }
 ],
 "metadata": {
  "kernelspec": {
   "display_name": "IMikrokosmos",
   "language": "",
   "name": "imikrokosmos"
  },
  "language_info": {
   "codemirror_mode": "mikrokosmos",
   "file_extension": ".mkr",
   "mimetype": "text/plain",
   "name": "Mikrokosmos"
  }
 },
 "nbformat": 4,
 "nbformat_minor": 2
}
