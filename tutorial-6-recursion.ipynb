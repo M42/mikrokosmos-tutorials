{
 "cells": [
  {
   "cell_type": "markdown",
   "metadata": {},
   "source": [
    "# Mikrokosmos 6: Recursion\n",
    "\n",
    "As always, we begin this chapter loading the content of all the previous chapters"
   ]
  },
  {
   "cell_type": "code",
   "execution_count": 1,
   "metadata": {},
   "outputs": [
    {
     "name": "stdout",
     "output_type": "stream",
     "text": [
      "\u001b[?1l\u001b[1;34mLoading /home/mario/.mikrokosmos/basic.mkr...\u001b[m\r\n",
      "\u001b[22;34m\u001b[m\u001b[?1h\u001b[1;94m\u001b[?1l\u001b[1;34mLoading /home/mario/.mikrokosmos/logic.mkr...\u001b[m\r\n",
      "\u001b[1;34mLoading /home/mario/.mikrokosmos/nat.mkr...\u001b[m\r\n",
      "\u001b[22;34m\u001b[m\u001b[?1h\u001b[1;94m\u001b[?1l\u001b[1;34mLoading /home/mario/.mikrokosmos/ski.mkr...\u001b[m\r\n",
      "\u001b[22;34m\u001b[m\u001b[?1h\u001b[1;94m\u001b[?1l\u001b[1;34mLoading /home/mario/.mikrokosmos/logic.mkr...\u001b[m\r\n",
      "\u001b[1;34mLoading /home/mario/.mikrokosmos/datastructures.mkr...\u001b[m\r\n",
      "\u001b[22;34m\u001b[m\u001b[?1h\u001b[1;94m"
     ]
    }
   ],
   "source": [
    ":load basic\n",
    ":load nat\n",
    ":load ski\n",
    ":load datastructures"
   ]
  },
  {
   "cell_type": "markdown",
   "metadata": {},
   "source": [
    "We can use and define fixpoint operators in order to define recursive\n",
    "functions. The problem they have is that they can not be evaluated\n",
    "without arguments into a closed form, so we have to delay the\n",
    "evaluation of the expression when we bind it. To do this, we use the\n",
    "`!=` operator, which binds an expression to a variable **without** simplifying it."
   ]
  },
  {
   "cell_type": "code",
   "execution_count": 2,
   "metadata": {},
   "outputs": [
    {
     "name": "stdout",
     "output_type": "stream",
     "text": [
      "\u001b[?1l\u001b[22;34m\u001b[m\u001b[?1h\u001b[1;94m"
     ]
    }
   ],
   "source": [
    "fix != (\\f.(\\x.f (x x)) (\\x.f (x x)))"
   ]
  },
  {
   "cell_type": "markdown",
   "metadata": {},
   "source": [
    "This `fix` operator (which is more commonly called the [Y combinator](https://en.wikipedia.org/wiki/Fixed-point_combinator#Fixed_point_combinators_in_lambda_calculus)) allows us to use the function we are defining on its own definition. The function will be passed as the first argument to the argument of fix, as `f = fix (\\f. ...)`. It is important to notice that recursive functions, even if they work, cannot be evaluated alone without entering an infinite beta-reduction loop.\n",
    "\n",
    "  * [Essentials: Functional Programming's Y Combinator - Computerphile](https://www.youtube.com/watch?v=9T8A89jgeTI)\n",
    "\n",
    "In Mikrokosmos, we need the `!=` operator when defining recursive functions to prevent them from expanding.\n",
    "\n",
    "Our first example is the **factorial** function."
   ]
  },
  {
   "cell_type": "code",
   "execution_count": 3,
   "metadata": {},
   "outputs": [
    {
     "name": "stdout",
     "output_type": "stream",
     "text": [
      "\u001b[?1l\u001b[22;34m\u001b[m\u001b[?1h\u001b[1;94m"
     ]
    }
   ],
   "source": [
    "fact != fix (\\f.\\n.iszero n 1 (mult n (f (pred n))))"
   ]
  },
  {
   "cell_type": "code",
   "execution_count": 4,
   "metadata": {},
   "outputs": [
    {
     "name": "stdout",
     "output_type": "stream",
     "text": [
      "\u001b[?1l\u001b[22;34mλa.λb.(a (a (a (a (a (a b))))))\u001b[32m ⇒ 6\u001b[m\u001b[m\r\n",
      "\u001b[m\u001b[?1h\u001b[1;94m\u001b[?1l\u001b[22;34mλa.λb.(a (a (a (a (a (a (a (a (a (a (a (a (a (a (a (a (a (a (a (a (a (a (a (a b))))))))))))))))))))))))\u001b[32m ⇒ 24\u001b[m\u001b[m\r\n",
      "\u001b[m\u001b[?1h\u001b[1;94m"
     ]
    }
   ],
   "source": [
    "fact 3\n",
    "fact 4"
   ]
  },
  {
   "cell_type": "markdown",
   "metadata": {},
   "source": [
    "The complexity of computing a factorial grows exponentially, and the lambda calculus (and particularly, this encoding of natural numbers) was not thought to be efficient. `fact 6` will surely be too much for the interpreter.\n",
    "\n",
    "As a last example, we are going to define **Fibonacci** numbers."
   ]
  },
  {
   "cell_type": "code",
   "execution_count": 5,
   "metadata": {},
   "outputs": [
    {
     "name": "stdout",
     "output_type": "stream",
     "text": [
      "\u001b[?1l\u001b[22;34m\u001b[m\u001b[?1h\u001b[1;94m"
     ]
    }
   ],
   "source": [
    "fib != fix (\\f.\\n.iszero n 1 (plus (f (pred n)) (f (pred (pred n)))))"
   ]
  },
  {
   "cell_type": "code",
   "execution_count": 6,
   "metadata": {},
   "outputs": [
    {
     "name": "stdout",
     "output_type": "stream",
     "text": [
      "\u001b[?1l\u001b[22;34mλa.λb.(a b)\u001b[32m ⇒ 1\u001b[m\u001b[m\r\n",
      "\u001b[m\u001b[?1h\u001b[1;94m\u001b[?1l\u001b[22;34mλa.λb.(a (a b))\u001b[32m ⇒ 2\u001b[m\u001b[m\r\n",
      "\u001b[m\u001b[?1h\u001b[1;94m\u001b[?1l\u001b[22;34mλa.λb.(a (a (a b)))\u001b[32m ⇒ 3\u001b[m\u001b[m\r\n",
      "\u001b[m\u001b[?1h\u001b[1;94m\u001b[?1l\u001b[22;34mλa.λb.(a (a (a (a (a b)))))\u001b[32m ⇒ 5\u001b[m\u001b[m\r\n",
      "\u001b[m\u001b[?1h\u001b[1;94m\u001b[?1l\u001b[22;34mλa.λb.(a (a (a (a (a (a (a (a b))))))))\u001b[32m ⇒ 8\u001b[m\u001b[m\r\n",
      "\u001b[m\u001b[?1h\u001b[1;94m"
     ]
    }
   ],
   "source": [
    "fib 0\n",
    "fib 1\n",
    "fib 2\n",
    "fib 3\n",
    "fib 4"
   ]
  },
  {
   "cell_type": "code",
   "execution_count": 7,
   "metadata": {},
   "outputs": [
    {
     "name": "stdout",
     "output_type": "stream",
     "text": [
      "\u001b[?1l\u001b[22;34m\u001b[m\u001b[?1h\u001b[1;94m"
     ]
    }
   ],
   "source": [
    "# Take care! Recursion can easily lead to non-terminating computations"
   ]
  },
  {
   "cell_type": "markdown",
   "metadata": {},
   "source": [
    "## Evaluation\n",
    "\n",
    "The order in which evaluation is performed is crucial to determine if an expression will eventually terminate. Mikrokosmos evaluates every expression from left to right, that is, the arguments of a function are not evaluated until they are being actually used on the function. This is not the most efficient way: if the same argument appears twice in the body of the function, it will be evaluated twice! but it prevent some expressions taking from entering an inifinite loop.\n",
    "\n",
    "For example, `fix` is a non-terminating term (it *diverges*); but if it is used inside an `ifelse` statement, it will be not evaluated at all."
   ]
  },
  {
   "cell_type": "code",
   "execution_count": 8,
   "metadata": {},
   "outputs": [
    {
     "name": "stdout",
     "output_type": "stream",
     "text": [
      "\u001b[?1l\u001b[22;34mλa.λb.(a (a (a b)))\u001b[32m ⇒ 3\u001b[m\u001b[m\r\n",
      "\u001b[m\u001b[?1h\u001b[1;94m\u001b[?1l\u001b[22;34mλa.λb.(a (a (a (a b))))\u001b[32m ⇒ 4\u001b[m\u001b[m\r\n",
      "\u001b[m\u001b[?1h\u001b[1;94m"
     ]
    }
   ],
   "source": [
    "false fix 3\n",
    "true 4 fix"
   ]
  },
  {
   "cell_type": "markdown",
   "metadata": {},
   "source": [
    "If `fix` is evaluated, however, Mikrokosmos will enter an infinite loop. You can restart it in `Kernel > Restart`."
   ]
  },
  {
   "cell_type": "code",
   "execution_count": null,
   "metadata": {
    "collapsed": true
   },
   "outputs": [],
   "source": [
    "false 2 fix"
   ]
  }
 ],
 "metadata": {
  "kernelspec": {
   "display_name": "IMikrokosmos",
   "language": "",
   "name": "imikrokosmos"
  },
  "language_info": {
   "codemirror_mode": "mikrokosmos",
   "file_extension": ".mkr",
   "mimetype": "text/plain",
   "name": "Mikrokosmos"
  }
 },
 "nbformat": 4,
 "nbformat_minor": 2
}
