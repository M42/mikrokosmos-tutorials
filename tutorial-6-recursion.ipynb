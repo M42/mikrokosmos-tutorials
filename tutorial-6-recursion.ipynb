{
 "cells": [
  {
   "cell_type": "markdown",
   "metadata": {},
   "source": [
    "# Mikrokosmos 6: Recursion\n",
    "\n",
    "As always, we begin this chapter loading the content of all the previous chapters"
   ]
  },
  {
   "cell_type": "code",
   "execution_count": null,
   "metadata": {},
   "outputs": [],
   "source": [
    ":load nat\n",
    ":load ski\n",
    ":load datastructures"
   ]
  },
  {
   "cell_type": "markdown",
   "metadata": {},
   "source": [
    "We can use and define fixpoint operators in order to define recursive\n",
    "functions. The problem they have is that they can not be evaluated\n",
    "without arguments into a closed form, so we have to delay the\n",
    "evaluation of the expression when we bind it. To do this, we use the\n",
    "`!=` operator, which binds an expression to a variable **without** simplifying it."
   ]
  },
  {
   "cell_type": "code",
   "execution_count": null,
   "metadata": {},
   "outputs": [],
   "source": [
    "fix != (\\f.(\\x.f (x x)) (\\x.f (x x)))"
   ]
  },
  {
   "cell_type": "markdown",
   "metadata": {},
   "source": [
    "This `fix` operator allows us to use the function we are defining on its own definition. The function will be passed as the first argument to the argument of fix, as `f = fix (\\f. ...)`. It is important to notice that recursive functions, even if they work, cannot be evaluated alone without entering an infinite beta-reduction loop. We need the `!=` operator when defining recursive functions to prevent them from expanding.\n",
    "\n",
    "Our first example is the **factorial** function."
   ]
  },
  {
   "cell_type": "code",
   "execution_count": null,
   "metadata": {},
   "outputs": [],
   "source": [
    "fact != fix (\\f.\\n.iszero n 1 (mult n (f (pred n))))"
   ]
  },
  {
   "cell_type": "code",
   "execution_count": null,
   "metadata": {},
   "outputs": [],
   "source": [
    "fact 3\n",
    "fact 4"
   ]
  },
  {
   "cell_type": "markdown",
   "metadata": {},
   "source": [
    "The complexity of computing a factorial grows exponentially, and the lambda calculus (and particularly, this encoding of natural numbers) was not thought to be efficient. `fact 6` will surely be too much for the interpreter.\n",
    "\n",
    "As a last example, we are going to define **Fibonacci** numbers."
   ]
  },
  {
   "cell_type": "code",
   "execution_count": null,
   "metadata": {},
   "outputs": [],
   "source": [
    "fib != fix (\\f.\\n.iszero n 1 (plus (f (pred n)) (f (pred (pred n)))))"
   ]
  },
  {
   "cell_type": "code",
   "execution_count": null,
   "metadata": {},
   "outputs": [],
   "source": [
    "fib 0\n",
    "fib 1\n",
    "fib 2\n",
    "fib 3\n",
    "fib 4"
   ]
  },
  {
   "cell_type": "code",
   "execution_count": null,
   "metadata": {},
   "outputs": [],
   "source": [
    "# Take care! Recursion can easily lead to non-terminating computations"
   ]
  }
 ],
 "metadata": {
  "kernelspec": {
   "display_name": "IMikrokosmos",
   "language": "",
   "name": "imikrokosmos"
  },
  "language_info": {
   "codemirror_mode": "mikrokosmos",
   "file_extension": ".mkr",
   "mimetype": "text/plain",
   "name": "Mikrokosmos"
  }
 },
 "nbformat": 4,
 "nbformat_minor": 2
}
