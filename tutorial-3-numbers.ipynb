{
 "cells": [
  {
   "cell_type": "markdown",
   "metadata": {},
   "source": [
    "# Mikrokosmos 3: arithmetic\n",
    "\n",
    "In the previous chapter, we defined most of the contents of the `logic` library. We can load it now as"
   ]
  },
  {
   "cell_type": "code",
   "execution_count": null,
   "metadata": {},
   "outputs": [],
   "source": [
    ":load basic\n",
    ":load logic"
   ]
  },
  {
   "cell_type": "markdown",
   "metadata": {},
   "source": [
    "## Peano and the natural numbers\n",
    "\n",
    "In the 19th century, [Giuseppe Peano](https://en.wikipedia.org/wiki/Peano_axioms) gave a definition of the natural numbers and an axiomatic theory of them based on only two contructors\n",
    "\n",
    " - The zero is a natural number, written as Z.\n",
    " - The successor of a natural number is a natural number, written as S.\n",
    " \n",
    "In those terms, the usual natural numbers will be \n",
    "\n",
    "$$ Z,\\ SZ,\\ S(SZ),\\ S(S(SZ)),\\ \\dots $$\n",
    " \n",
    "The question is now how can we encode them on lambda calculus. We do not have the ability to write the two constructors on lambda calculus, so we will make the natural numbers depend on them. This is again the same idea we used when we tried to encode booleans, we do not care about the content, but about how can we use them later."
   ]
  },
  {
   "cell_type": "code",
   "execution_count": null,
   "metadata": {},
   "outputs": [],
   "source": [
    "# Definition of the natural numbers\n",
    "0 = \\s.\\z.z\n",
    "succ = \\n.\\s.\\z.s (n s z)"
   ]
  },
  {
   "cell_type": "markdown",
   "metadata": {},
   "source": [
    "This definition of `0` is trivial: given a successor function and a zero, return the zero. The successor function seems more complex, but it uses the same underlying idea: given a number, a successor and a zero, apply the successor to the interpretation of that number using the same successor and zero. This is again, an example of [Church encoding](https://en.wikipedia.org/wiki/Church_encoding)."
   ]
  },
  {
   "cell_type": "code",
   "execution_count": null,
   "metadata": {},
   "outputs": [],
   "source": [
    "# Names of the first twenty natural numbers\n",
    "1  = succ 0\n",
    "2  = succ 1\n",
    "3  = succ 2\n",
    "4  = succ 3\n",
    "5  = succ 4\n",
    "6  = succ 5\n",
    "7  = succ 6\n",
    "8  = succ 7\n",
    "9  = succ 8\n",
    "10 = succ 9\n",
    "11 = succ 10\n",
    "12 = succ 11\n",
    "13 = succ 12\n",
    "14 = succ 13\n",
    "15 = succ 14\n",
    "16 = succ 15\n",
    "17 = succ 16\n",
    "18 = succ 17\n",
    "19 = succ 18\n",
    "20 = succ 19"
   ]
  },
  {
   "cell_type": "markdown",
   "metadata": {},
   "source": [
    "Under this interpretation, a number `n` is really a function taking a function `a` as an argument and applying it `n` times over the argument `b`."
   ]
  },
  {
   "cell_type": "code",
   "execution_count": null,
   "metadata": {},
   "outputs": [],
   "source": [
    "5"
   ]
  },
  {
   "cell_type": "code",
   "execution_count": null,
   "metadata": {},
   "outputs": [],
   "source": [
    "5 not true\n",
    "4 not false"
   ]
  },
  {
   "cell_type": "markdown",
   "metadata": {},
   "source": [
    "**Exercise 3.1:** Define a function that takes a natural number and returns true if and only if the number is even.\n",
    "\n",
    "*Hint: you may want to interpret the given number as a function.*"
   ]
  },
  {
   "cell_type": "code",
   "execution_count": null,
   "metadata": {},
   "outputs": [],
   "source": [
    "# -- Your solution goes here"
   ]
  },
  {
   "cell_type": "markdown",
   "metadata": {},
   "source": [
    "## Addition and multiplication\n",
    "\n",
    "The encoding of the addition and multiplication of natural numbers will profit from the interpretation of numbers as functions. This is, in fact, the only way we can use naturals; but we will quickly see that this is an strenght instead of a weakness of our encoding. We are really encoding naturals as their induction principle: we can define a function by defining a zero and a successor.\n",
    "\n",
    "The `double` function will only change the successor for the composition of the successor function with itself."
   ]
  },
  {
   "cell_type": "code",
   "execution_count": null,
   "metadata": {},
   "outputs": [],
   "source": [
    "double = \\n.\\s.\\z.n (compose s s) z"
   ]
  },
  {
   "cell_type": "code",
   "execution_count": null,
   "metadata": {},
   "outputs": [],
   "source": [
    "double 0\n",
    "double 3\n",
    "double 4"
   ]
  },
  {
   "cell_type": "markdown",
   "metadata": {},
   "source": [
    "**Exercise 3.2:** Define a `triple` function."
   ]
  },
  {
   "cell_type": "code",
   "execution_count": null,
   "metadata": {},
   "outputs": [],
   "source": [
    "# -- Your solution goes here"
   ]
  },
  {
   "cell_type": "markdown",
   "metadata": {},
   "source": [
    "We are going now to define **addition** using this same principle. It takes a successor and a zero, computes the first number as `(n s z)` and then uses it as a zero on the interpretation of the second one."
   ]
  },
  {
   "cell_type": "code",
   "execution_count": null,
   "metadata": {},
   "outputs": [],
   "source": [
    "plus = \\m.\\n.\\s.\\z.m s (n s z)"
   ]
  },
  {
   "cell_type": "code",
   "execution_count": null,
   "metadata": {},
   "outputs": [],
   "source": [
    "plus 2 1\n",
    "plus 3 4\n",
    "plus 0 5"
   ]
  },
  {
   "cell_type": "markdown",
   "metadata": {},
   "source": [
    "**Exercise 3.3:** How would you define multiplication? Keep in mind that you can use a number as a function. Keep also in mind the previous exercises on `double` and `triple`.\n",
    "\n",
    "*Spoilers below!*"
   ]
  },
  {
   "cell_type": "code",
   "execution_count": null,
   "metadata": {},
   "outputs": [],
   "source": [
    "# -- Your solution goes here\n",
    "# mymult ="
   ]
  },
  {
   "cell_type": "markdown",
   "metadata": {},
   "source": [
    "There many possible ways of defining multiplication. Some of them can use the repeated application of `plus` to a number; but we are going to define **multiplication** in a way that is similar to how we defined `double` previously. We are going to interpret the successor as the n-fold application of successor."
   ]
  },
  {
   "cell_type": "code",
   "execution_count": null,
   "metadata": {},
   "outputs": [],
   "source": [
    "mult = \\m.\\n.\\s.\\z.m (n s) z"
   ]
  },
  {
   "cell_type": "code",
   "execution_count": null,
   "metadata": {},
   "outputs": [],
   "source": [
    "mult 0 3\n",
    "mult 1 5\n",
    "mult 3 4"
   ]
  },
  {
   "cell_type": "markdown",
   "metadata": {},
   "source": [
    "## The predecessor function"
   ]
  },
  {
   "cell_type": "markdown",
   "metadata": {},
   "source": [
    "But, how to compute the predecessor of a number? We have not encoded negative numbers, so it could be a function returning zero whenever it tries to get the predecessor of zero. It is an insightful exercise to try to define it by yourself, but please, do not get too obsessed with it. The solution is certainly not easy. "
   ]
  },
  {
   "cell_type": "code",
   "execution_count": null,
   "metadata": {},
   "outputs": [],
   "source": [
    "# -- You can try here\n",
    "# -- Spoilers below!"
   ]
  },
  {
   "cell_type": "markdown",
   "metadata": {},
   "source": [
    "The solution is the term that follows this paragraph. You probably expected something easier! Kleene, who was a student of Alonzo Church, discovered for the first time how to write a predecessor on lambda calculus while at the dentist. This discovery made Church start thinking that every intuitively computable function could be computed using lambda calculus, that is, that the notions of lambda-computable function and intuitively computable function would coincide."
   ]
  },
  {
   "cell_type": "code",
   "execution_count": null,
   "metadata": {},
   "outputs": [],
   "source": [
    "pred = \\n.\\f.\\x.n (\\g.(\\h.h (g f))) (\\u.x) (\\u.u)"
   ]
  },
  {
   "cell_type": "code",
   "execution_count": null,
   "metadata": {},
   "outputs": [],
   "source": [
    "pred 4\n",
    "pred 1\n",
    "pred 0"
   ]
  },
  {
   "cell_type": "markdown",
   "metadata": {},
   "source": [
    "But why does something like this even work? The main idea is to create a function that can be applied to a pair of numbers $n$ times and in such a way that the first application renders $1,0$, and any subsequent application acts as a successor on both numbers. We finally take only the second one. A detailed derivation of this function can be found [here](https://en.wikipedia.org/wiki/Church_encoding#Derivation_of_predecessor_function).\n",
    "\n",
    "**Exercise 3.4:** Use the predecessor function to define the `minus` function. It should return the difference between two numbers. It should return zero whenever the first number is smaller than the second."
   ]
  },
  {
   "cell_type": "code",
   "execution_count": null,
   "metadata": {},
   "outputs": [],
   "source": [
    "# -- Your solution goes here"
   ]
  },
  {
   "cell_type": "markdown",
   "metadata": {},
   "source": [
    "## Predicates on natural numbers\n",
    "\n",
    "This encoding even allow us to write predicates on natural numbers. The first predicate will be a function distinguishing a successor from a zero. It will be user later to build more complex ones.\n",
    "\n",
    "It is built by appliying a `const false` function `n` times to a true constant. Only if it is applied `0` times, it will return a true value."
   ]
  },
  {
   "cell_type": "code",
   "execution_count": null,
   "metadata": {},
   "outputs": [],
   "source": [
    "iszero = \\n.(n (const false) true)"
   ]
  },
  {
   "cell_type": "code",
   "execution_count": null,
   "metadata": {},
   "outputs": [],
   "source": [
    "iszero 0\n",
    "iszero 2\n",
    "iszero 1"
   ]
  },
  {
   "cell_type": "markdown",
   "metadata": {},
   "source": [
    "Using this predicate, we can build `eq` and `leq`, corresponding to $==$ and $\\leq$."
   ]
  },
  {
   "cell_type": "code",
   "execution_count": null,
   "metadata": {},
   "outputs": [],
   "source": [
    "leq = \\m.\\n.(iszero (minus m n))\n",
    "eq  = \\m.\\n.(and (leq m n) (leq n m))"
   ]
  },
  {
   "cell_type": "code",
   "execution_count": null,
   "metadata": {
    "collapsed": true
   },
   "outputs": [],
   "source": [
    "# Playground!"
   ]
  }
 ],
 "metadata": {
  "kernelspec": {
   "display_name": "IMikrokosmos",
   "language": "",
   "name": "imikrokosmos"
  },
  "language_info": {
   "codemirror_mode": "mikrokosmos",
   "file_extension": ".mkr",
   "mimetype": "text/plain",
   "name": "Mikrokosmos"
  }
 },
 "nbformat": 4,
 "nbformat_minor": 2
}
