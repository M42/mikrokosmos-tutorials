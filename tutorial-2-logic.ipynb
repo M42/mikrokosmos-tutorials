{
 "cells": [
  {
   "cell_type": "markdown",
   "metadata": {},
   "source": [
    "# Mikrokosmos 2: Boolean logic\n",
    "\n",
    "In the last chapter, we defined some functions that correspond to those defined on the `basic` library. We can load it now as"
   ]
  },
  {
   "cell_type": "code",
   "execution_count": null,
   "metadata": {
    "collapsed": true
   },
   "outputs": [],
   "source": [
    ":load basic"
   ]
  },
  {
   "cell_type": "markdown",
   "metadata": {},
   "source": [
    "## Booleans\n",
    "\n",
    "[Boolean logic](https://en.wikipedia.org/wiki/Boolean_algebra) can be encoded in lambda calculus. In boolean logic, we have two elements `true` and `false`; and some logical gates such as\n",
    "\n",
    "  * the **and** gate, which outputs true if and only if its two inputs \n",
    "    are true.\n",
    "  * the **or** gate, which outputs true if any of its inputs is true,\n",
    "    or even if *both* are true.\n",
    "  * the **not** gate, which outpus true if and only if its input is\n",
    "    false.\n",
    "\n",
    "For example,\n",
    "\n",
    "$$\\mathtt{not(\\ or ( true, false )\\ ) = not\\ true = false}.$$\n",
    "\n",
    "Our intuition on what means to be a truth value is that it can distinghish between two values (**true** or **false**) or two branches on a program (if ... else ...). We are going to use this intuition to write an encoding of boolean values based on their ability to choose between two branches. Maybe surprisingly, this encoding will be also useful to write the usual boolean logic gates."
   ]
  },
  {
   "cell_type": "code",
   "execution_count": null,
   "metadata": {
    "collapsed": true
   },
   "outputs": [],
   "source": [
    "# Church encoding of boolean truth values\n",
    "true  = \\a.\\b.a\n",
    "false = \\a.\\b.b"
   ]
  },
  {
   "cell_type": "markdown",
   "metadata": {},
   "source": [
    "Here, a truth value is a function on two elements that chooses one of them.\n",
    "\n",
    " - $\\mathtt{true}\\ a\\ b  = a$\n",
    " - $\\mathtt{false}\\ a\\ b = b$\n",
    "\n",
    "This is called the *Church encoding* of the booleans, as it was firstly used by Alonzo Church. This idea of defining a type based not on its content but on how it can be used will appear later, when we define more complex data structures. "
   ]
  },
  {
   "cell_type": "code",
   "execution_count": null,
   "metadata": {
    "collapsed": true
   },
   "outputs": [],
   "source": [
    "# Examples\n",
    "true id const\n",
    "false id const\n",
    "true true false\n",
    "false true false"
   ]
  },
  {
   "cell_type": "markdown",
   "metadata": {},
   "source": [
    "In particular, `true` is exactly the same lambda term as `const`. This is a very usual phenomenon in lambda calculus, where the same function can be interpreted differently in different contexts. Mikrokosmos allows us to have multiple names for the same term.  "
   ]
  },
  {
   "cell_type": "markdown",
   "metadata": {},
   "source": [
    "## If-else \n",
    "\n",
    "The advantage of this way of encoding the boolean values is that they can be easily used in combination with other lambda terms. In particular, the way to encode an if-else is almost trivial: it is already encoded on the lambda terms!"
   ]
  },
  {
   "cell_type": "code",
   "execution_count": null,
   "metadata": {
    "collapsed": true
   },
   "outputs": [],
   "source": [
    "# If true, then the id function will be returned\n",
    "# if false, then the const function will be returned \n",
    "(\\b. b id const) true\n",
    "(\\b. b id const) false"
   ]
  },
  {
   "cell_type": "markdown",
   "metadata": {},
   "source": [
    "If you really want to write an `if-else` function, it will be, quite literally, the trivial one"
   ]
  },
  {
   "cell_type": "code",
   "execution_count": null,
   "metadata": {
    "collapsed": true
   },
   "outputs": [],
   "source": [
    "ifelse = \\b.b\n",
    "\n",
    "(ifelse true) id const\n",
    "(ifelse false) id const"
   ]
  },
  {
   "cell_type": "markdown",
   "metadata": {},
   "source": [
    "## Logic gates\n",
    "\n",
    "Usual operations on booleans can be defined too on this encoding and they will be surprisingly easy if we think of booleans as functions choosing from two terms."
   ]
  },
  {
   "cell_type": "code",
   "execution_count": null,
   "metadata": {
    "collapsed": true
   },
   "outputs": [],
   "source": [
    "# The and gate takes two booleans and returns a true if and only if \n",
    "# the two given booleans are true. \n",
    "and = \\p.\\q.p q p"
   ]
  },
  {
   "cell_type": "code",
   "execution_count": null,
   "metadata": {
    "collapsed": true
   },
   "outputs": [],
   "source": [
    "# Checking the truth table for the and gate\n",
    "and true true\n",
    "and true false\n",
    "and false true\n",
    "and false false"
   ]
  },
  {
   "cell_type": "markdown",
   "metadata": {},
   "source": [
    "**Exercise 2.1:** Think why this definition of the `and` gate works.\n",
    "\n",
    "*Hint: think what happens when the first argument is a `true`. What happens if it is a `false`?*"
   ]
  },
  {
   "cell_type": "markdown",
   "metadata": {},
   "source": [
    "The `or` gate can be defined in a similar way."
   ]
  },
  {
   "cell_type": "code",
   "execution_count": null,
   "metadata": {
    "collapsed": true
   },
   "outputs": [],
   "source": [
    "# The or gate takes two booleans and returns a true if and only if\n",
    "# any of them (or both) are true\n",
    "or = \\p.\\q.p p q"
   ]
  },
  {
   "cell_type": "code",
   "execution_count": null,
   "metadata": {
    "collapsed": true
   },
   "outputs": [],
   "source": [
    "# Checking the truth table for the and gate\n",
    "or true true\n",
    "or true false\n",
    "or false true\n",
    "or false false"
   ]
  },
  {
   "cell_type": "markdown",
   "metadata": {},
   "source": [
    "And finally, the negation operator is only a way of interchanging the two truth values"
   ]
  },
  {
   "cell_type": "code",
   "execution_count": null,
   "metadata": {
    "collapsed": true
   },
   "outputs": [],
   "source": [
    "not = \\b.b false true"
   ]
  },
  {
   "cell_type": "code",
   "execution_count": null,
   "metadata": {
    "collapsed": true
   },
   "outputs": [],
   "source": [
    "not true\n",
    "not false\n",
    "not (and true true)"
   ]
  },
  {
   "cell_type": "markdown",
   "metadata": {},
   "source": [
    "## Exercises and more logical gates"
   ]
  },
  {
   "cell_type": "markdown",
   "metadata": {},
   "source": [
    "The boolean logic implication operator works also as a boolean gate, it can be defined as\n",
    "\n",
    "$$(a \\to b) \\equiv (\\neg a) \\vee b,$$\n",
    "\n",
    "that is, the implication is true if both are true or if the premise is false."
   ]
  },
  {
   "cell_type": "code",
   "execution_count": null,
   "metadata": {
    "collapsed": true
   },
   "outputs": [],
   "source": [
    "implies = \\a.\\b.or (not a) b"
   ]
  },
  {
   "cell_type": "markdown",
   "metadata": {},
   "source": [
    "**Exercise 2.2:** Compute the logic table for the implication using the previous definition."
   ]
  },
  {
   "cell_type": "code",
   "execution_count": null,
   "metadata": {
    "collapsed": true
   },
   "outputs": [],
   "source": [
    "# -- Your solution goes here"
   ]
  },
  {
   "cell_type": "markdown",
   "metadata": {},
   "source": [
    "**Exercise 2.3:** Compute the following logic clauses using lambda calculus\n",
    " \n",
    " - True or false implies false.\n",
    " - False implies that: false implies false.\n",
    " - The negation of false and the negation of true both imply true."
   ]
  },
  {
   "cell_type": "code",
   "execution_count": null,
   "metadata": {
    "collapsed": true
   },
   "outputs": [],
   "source": [
    "# -- Your solution goes here"
   ]
  },
  {
   "cell_type": "markdown",
   "metadata": {},
   "source": [
    "**Exercise 2.4:** Define the `xor` gate as a lambda term. The `xor` of two boolean values must return a true if and only if *exactly one* of them are true. Check also its logic table.\n",
    "\n",
    "*Hint: you may want to use the already defined `not`.*"
   ]
  },
  {
   "cell_type": "code",
   "execution_count": null,
   "metadata": {
    "collapsed": true
   },
   "outputs": [],
   "source": [
    "# -- Your solution goes here"
   ]
  }
 ],
 "metadata": {
  "kernelspec": {
   "display_name": "IMikrokosmos",
   "language": "",
   "name": "imikrokosmos"
  },
  "language_info": {
   "codemirror_mode": "mikrokosmos",
   "file_extension": ".mkr",
   "mimetype": "text/plain",
   "name": "Mikrokosmos"
  }
 },
 "nbformat": 4,
 "nbformat_minor": 2
}
